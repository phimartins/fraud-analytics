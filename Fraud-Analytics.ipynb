{
 "cells": [
  {
   "cell_type": "markdown",
   "metadata": {},
   "source": [
    "<h1>Data Quality Report e Detecção de Fraudes em Transações Imobiliárias</h1></br>\n",
    "<h2>Etapa 1 - Data Quality Report (DQR)</h2>\n",
    "</br><p>O DQR é um relatório analítico com o objetivo de compreender a organização dos dados, se estão coerentes, se há alguma anomalia amplamente visível e resumir os dados (ou pelo menos as variáveis mais importantes) com base na compreensão do problema de negócio.</p>\n",
    "</br>\n",
    "<p>Para o projeto, foi utilizado uma base de dados fornecida pelo portal de dados abertos da cidade de Nova Yorque.</p>\n",
    "</br><p>Você pode acessar o Dicionário de Dados e fazer download do dataset clicando <a href=\"https://data.cityofnewyork.us/Housing-Development/Property-Valuation-and-Assessment-Data/rgy2-tti8\" title=\"download\" target=\"_blank\">aqui</a>.</p>\n",
    "\n"
   ]
  },
  {
   "cell_type": "code",
   "execution_count": 1,
   "metadata": {},
   "outputs": [
    {
     "name": "stdout",
     "output_type": "stream",
     "text": [
      "Versão da linguagem Python usada neste Jupyter Notebook: 3.8.3\n"
     ]
    }
   ],
   "source": [
    "# Versão da linguagem Python\n",
    "from platform import python_version\n",
    "print('Versão da linguagem Python usada neste Jupyter Notebook:', python_version())"
   ]
  },
  {
   "cell_type": "markdown",
   "metadata": {},
   "source": [
    "<h3>Instalando e Carregando os Pacotes</h3>"
   ]
  },
  {
   "cell_type": "code",
   "execution_count": 2,
   "metadata": {},
   "outputs": [],
   "source": [
    "# Para atualizar um pacote, execute o comando abaixo no terminal ou no prompt de comando:\n",
    "# pip install -U nome_pacote\n",
    "\n",
    "# Para instalar a versão exata de um pacote, execute o comando abaixo no terminal ou no prompt de comando:\n",
    "# !pip install nome_pacote==versão\n",
    "\n",
    "# Depois de instalar ou atualizar o pacote, reinicie o Jupyter Notebook.\n",
    "\n",
    "# Instala o pacote watermark.\n",
    "# Esse pacote é usado para gravar as versões de outros pacotes usados neste Jupyter Notebook.\n",
    "!pip install -q -U watermark"
   ]
  },
  {
   "cell_type": "code",
   "execution_count": 3,
   "metadata": {},
   "outputs": [],
   "source": [
    "# Imports\n",
    "import numpy as np\n",
    "import pandas as pd\n",
    "import matplotlib.pyplot as plt\n",
    "import matplotlib.pyplot as pyplot\n",
    "import seaborn as sns\n",
    "import warnings\n",
    "warnings.filterwarnings('ignore') #ignorando possíveis warnings\n",
    "pd.set_option('display.float_format', lambda x : '%.2f' % x) #configurando o formato dos números decimais para os gráficos\n",
    "%matplotlib inline "
   ]
  },
  {
   "cell_type": "code",
   "execution_count": 4,
   "metadata": {},
   "outputs": [
    {
     "name": "stdout",
     "output_type": "stream",
     "text": [
      "Author: Philip Martins\n",
      "\n",
      "matplotlib: 3.2.2\n",
      "seaborn   : 0.11.1\n",
      "pandas    : 1.0.5\n",
      "numpy     : 1.18.5\n",
      "\n"
     ]
    }
   ],
   "source": [
    "# Versões dos pacotes usados neste Jupyter notebook\n",
    "%reload_ext watermark\n",
    "%watermark -a \"Philip Martins\" --iversion"
   ]
  },
  {
   "cell_type": "markdown",
   "metadata": {},
   "source": [
    "<h3>Resumo dos Dados</h3>"
   ]
  },
  {
   "cell_type": "code",
   "execution_count": 5,
   "metadata": {},
   "outputs": [],
   "source": [
    "# Carregando os dados\n",
    "\n",
    "dados = pd.read_csv('/pyprojects/data/dataset.csv', index_col = 0)"
   ]
  },
  {
   "cell_type": "code",
   "execution_count": 6,
   "metadata": {},
   "outputs": [
    {
     "data": {
      "text/plain": [
       "(1070994, 31)"
      ]
     },
     "execution_count": 6,
     "metadata": {},
     "output_type": "execute_result"
    }
   ],
   "source": [
    "# Shape\n",
    "dados.shape"
   ]
  },
  {
   "cell_type": "code",
   "execution_count": 7,
   "metadata": {},
   "outputs": [
    {
     "data": {
      "text/html": [
       "<div>\n",
       "<style scoped>\n",
       "    .dataframe tbody tr th:only-of-type {\n",
       "        vertical-align: middle;\n",
       "    }\n",
       "\n",
       "    .dataframe tbody tr th {\n",
       "        vertical-align: top;\n",
       "    }\n",
       "\n",
       "    .dataframe thead th {\n",
       "        text-align: right;\n",
       "    }\n",
       "</style>\n",
       "<table border=\"1\" class=\"dataframe\">\n",
       "  <thead>\n",
       "    <tr style=\"text-align: right;\">\n",
       "      <th></th>\n",
       "      <th>BBLE</th>\n",
       "      <th>B</th>\n",
       "      <th>BLOCK</th>\n",
       "      <th>LOT</th>\n",
       "      <th>EASEMENT</th>\n",
       "      <th>OWNER</th>\n",
       "      <th>BLDGCL</th>\n",
       "      <th>TAXCLASS</th>\n",
       "      <th>LTFRONT</th>\n",
       "      <th>LTDEPTH</th>\n",
       "      <th>...</th>\n",
       "      <th>BLDFRONT</th>\n",
       "      <th>BLDDEPTH</th>\n",
       "      <th>AVLAND2</th>\n",
       "      <th>AVTOT2</th>\n",
       "      <th>EXLAND2</th>\n",
       "      <th>EXTOT2</th>\n",
       "      <th>EXCD2</th>\n",
       "      <th>PERIOD</th>\n",
       "      <th>YEAR</th>\n",
       "      <th>VALTYPE</th>\n",
       "    </tr>\n",
       "    <tr>\n",
       "      <th>RECORD</th>\n",
       "      <th></th>\n",
       "      <th></th>\n",
       "      <th></th>\n",
       "      <th></th>\n",
       "      <th></th>\n",
       "      <th></th>\n",
       "      <th></th>\n",
       "      <th></th>\n",
       "      <th></th>\n",
       "      <th></th>\n",
       "      <th></th>\n",
       "      <th></th>\n",
       "      <th></th>\n",
       "      <th></th>\n",
       "      <th></th>\n",
       "      <th></th>\n",
       "      <th></th>\n",
       "      <th></th>\n",
       "      <th></th>\n",
       "      <th></th>\n",
       "      <th></th>\n",
       "    </tr>\n",
       "  </thead>\n",
       "  <tbody>\n",
       "    <tr>\n",
       "      <th>1</th>\n",
       "      <td>1000010101</td>\n",
       "      <td>1</td>\n",
       "      <td>1</td>\n",
       "      <td>101</td>\n",
       "      <td>NaN</td>\n",
       "      <td>U S GOVT LAND &amp; BLDGS</td>\n",
       "      <td>P7</td>\n",
       "      <td>4</td>\n",
       "      <td>500</td>\n",
       "      <td>1046</td>\n",
       "      <td>...</td>\n",
       "      <td>0</td>\n",
       "      <td>0</td>\n",
       "      <td>3775500.00</td>\n",
       "      <td>8613000.00</td>\n",
       "      <td>3775500.00</td>\n",
       "      <td>8613000.00</td>\n",
       "      <td>nan</td>\n",
       "      <td>FINAL</td>\n",
       "      <td>2010/11</td>\n",
       "      <td>AC-TR</td>\n",
       "    </tr>\n",
       "    <tr>\n",
       "      <th>2</th>\n",
       "      <td>1000010201</td>\n",
       "      <td>1</td>\n",
       "      <td>1</td>\n",
       "      <td>201</td>\n",
       "      <td>NaN</td>\n",
       "      <td>U S GOVT LAND &amp; BLDGS</td>\n",
       "      <td>Z9</td>\n",
       "      <td>4</td>\n",
       "      <td>27</td>\n",
       "      <td>0</td>\n",
       "      <td>...</td>\n",
       "      <td>0</td>\n",
       "      <td>0</td>\n",
       "      <td>11111400.00</td>\n",
       "      <td>80690400.00</td>\n",
       "      <td>11111400.00</td>\n",
       "      <td>80690400.00</td>\n",
       "      <td>nan</td>\n",
       "      <td>FINAL</td>\n",
       "      <td>2010/11</td>\n",
       "      <td>AC-TR</td>\n",
       "    </tr>\n",
       "    <tr>\n",
       "      <th>3</th>\n",
       "      <td>1000020001</td>\n",
       "      <td>1</td>\n",
       "      <td>2</td>\n",
       "      <td>1</td>\n",
       "      <td>NaN</td>\n",
       "      <td>DEPT OF GENERAL SERVI</td>\n",
       "      <td>Y7</td>\n",
       "      <td>4</td>\n",
       "      <td>709</td>\n",
       "      <td>564</td>\n",
       "      <td>...</td>\n",
       "      <td>709</td>\n",
       "      <td>564</td>\n",
       "      <td>32321790.00</td>\n",
       "      <td>40179510.00</td>\n",
       "      <td>32321790.00</td>\n",
       "      <td>40179510.00</td>\n",
       "      <td>nan</td>\n",
       "      <td>FINAL</td>\n",
       "      <td>2010/11</td>\n",
       "      <td>AC-TR</td>\n",
       "    </tr>\n",
       "    <tr>\n",
       "      <th>4</th>\n",
       "      <td>1000020023</td>\n",
       "      <td>1</td>\n",
       "      <td>2</td>\n",
       "      <td>23</td>\n",
       "      <td>NaN</td>\n",
       "      <td>DEPARTMENT OF BUSINES</td>\n",
       "      <td>T2</td>\n",
       "      <td>4</td>\n",
       "      <td>793</td>\n",
       "      <td>551</td>\n",
       "      <td>...</td>\n",
       "      <td>85</td>\n",
       "      <td>551</td>\n",
       "      <td>13644000.00</td>\n",
       "      <td>15750000.00</td>\n",
       "      <td>13644000.00</td>\n",
       "      <td>15750000.00</td>\n",
       "      <td>nan</td>\n",
       "      <td>FINAL</td>\n",
       "      <td>2010/11</td>\n",
       "      <td>AC-TR</td>\n",
       "    </tr>\n",
       "    <tr>\n",
       "      <th>5</th>\n",
       "      <td>1000030001</td>\n",
       "      <td>1</td>\n",
       "      <td>3</td>\n",
       "      <td>1</td>\n",
       "      <td>NaN</td>\n",
       "      <td>PARKS AND RECREATION</td>\n",
       "      <td>Q1</td>\n",
       "      <td>4</td>\n",
       "      <td>323</td>\n",
       "      <td>1260</td>\n",
       "      <td>...</td>\n",
       "      <td>89</td>\n",
       "      <td>57</td>\n",
       "      <td>106348680.00</td>\n",
       "      <td>107758350.00</td>\n",
       "      <td>106348680.00</td>\n",
       "      <td>107758350.00</td>\n",
       "      <td>nan</td>\n",
       "      <td>FINAL</td>\n",
       "      <td>2010/11</td>\n",
       "      <td>AC-TR</td>\n",
       "    </tr>\n",
       "  </tbody>\n",
       "</table>\n",
       "<p>5 rows × 31 columns</p>\n",
       "</div>"
      ],
      "text/plain": [
       "              BBLE  B  BLOCK  LOT EASEMENT                  OWNER BLDGCL  \\\n",
       "RECORD                                                                     \n",
       "1       1000010101  1      1  101      NaN  U S GOVT LAND & BLDGS     P7   \n",
       "2       1000010201  1      1  201      NaN  U S GOVT LAND & BLDGS     Z9   \n",
       "3       1000020001  1      2    1      NaN  DEPT OF GENERAL SERVI     Y7   \n",
       "4       1000020023  1      2   23      NaN  DEPARTMENT OF BUSINES     T2   \n",
       "5       1000030001  1      3    1      NaN   PARKS AND RECREATION     Q1   \n",
       "\n",
       "       TAXCLASS  LTFRONT  LTDEPTH  ... BLDFRONT  BLDDEPTH      AVLAND2  \\\n",
       "RECORD                             ...                                   \n",
       "1             4      500     1046  ...        0         0   3775500.00   \n",
       "2             4       27        0  ...        0         0  11111400.00   \n",
       "3             4      709      564  ...      709       564  32321790.00   \n",
       "4             4      793      551  ...       85       551  13644000.00   \n",
       "5             4      323     1260  ...       89        57 106348680.00   \n",
       "\n",
       "             AVTOT2      EXLAND2       EXTOT2  EXCD2  PERIOD     YEAR  VALTYPE  \n",
       "RECORD                                                                          \n",
       "1        8613000.00   3775500.00   8613000.00    nan   FINAL  2010/11    AC-TR  \n",
       "2       80690400.00  11111400.00  80690400.00    nan   FINAL  2010/11    AC-TR  \n",
       "3       40179510.00  32321790.00  40179510.00    nan   FINAL  2010/11    AC-TR  \n",
       "4       15750000.00  13644000.00  15750000.00    nan   FINAL  2010/11    AC-TR  \n",
       "5      107758350.00 106348680.00 107758350.00    nan   FINAL  2010/11    AC-TR  \n",
       "\n",
       "[5 rows x 31 columns]"
      ]
     },
     "execution_count": 7,
     "metadata": {},
     "output_type": "execute_result"
    }
   ],
   "source": [
    "# vendo as primeiras linhas do dataset\n",
    "\n",
    "dados.head()"
   ]
  },
  {
   "cell_type": "code",
   "execution_count": 8,
   "metadata": {},
   "outputs": [
    {
     "name": "stdout",
     "output_type": "stream",
     "text": [
      "Linhas:  1070994\n",
      "Colunas:  31\n",
      "\n",
      "Variáveis: \n",
      " ['BBLE', 'B', 'BLOCK', 'LOT', 'EASEMENT', 'OWNER', 'BLDGCL', 'TAXCLASS', 'LTFRONT', 'LTDEPTH', 'EXT', 'STORIES', 'FULLVAL', 'AVLAND', 'AVTOT', 'EXLAND', 'EXTOT', 'EXCD1', 'STADDR', 'ZIP', 'EXMPTCL', 'BLDFRONT', 'BLDDEPTH', 'AVLAND2', 'AVTOT2', 'EXLAND2', 'EXTOT2', 'EXCD2', 'PERIOD', 'YEAR', 'VALTYPE']\n",
      "\n",
      "Valores Ausentes: \n",
      " BBLE              0\n",
      "B                 0\n",
      "BLOCK             0\n",
      "LOT               0\n",
      "EASEMENT    1066358\n",
      "OWNER         31745\n",
      "BLDGCL            0\n",
      "TAXCLASS          0\n",
      "LTFRONT           0\n",
      "LTDEPTH           0\n",
      "EXT          716689\n",
      "STORIES       56264\n",
      "FULLVAL           0\n",
      "AVLAND            0\n",
      "AVTOT             0\n",
      "EXLAND            0\n",
      "EXTOT             0\n",
      "EXCD1        432506\n",
      "STADDR          676\n",
      "ZIP           29890\n",
      "EXMPTCL     1055415\n",
      "BLDFRONT          0\n",
      "BLDDEPTH          0\n",
      "AVLAND2      788268\n",
      "AVTOT2       788262\n",
      "EXLAND2      983545\n",
      "EXTOT2       940166\n",
      "EXCD2        978046\n",
      "PERIOD            0\n",
      "YEAR              0\n",
      "VALTYPE           0\n",
      "dtype: int64\n",
      "\n",
      "Valores Únicos: \n",
      " BBLE        1070994\n",
      "B                 5\n",
      "BLOCK         13984\n",
      "LOT            6366\n",
      "EASEMENT         12\n",
      "OWNER        863346\n",
      "BLDGCL          200\n",
      "TAXCLASS         11\n",
      "LTFRONT        1297\n",
      "LTDEPTH        1370\n",
      "EXT               3\n",
      "STORIES         111\n",
      "FULLVAL      109324\n",
      "AVLAND        70921\n",
      "AVTOT        112914\n",
      "EXLAND        33419\n",
      "EXTOT         64255\n",
      "EXCD1           129\n",
      "STADDR       839280\n",
      "ZIP             196\n",
      "EXMPTCL          14\n",
      "BLDFRONT        612\n",
      "BLDDEPTH        621\n",
      "AVLAND2       58591\n",
      "AVTOT2       111360\n",
      "EXLAND2       22195\n",
      "EXTOT2        48348\n",
      "EXCD2            60\n",
      "PERIOD            1\n",
      "YEAR              1\n",
      "VALTYPE           1\n",
      "dtype: int64\n"
     ]
    }
   ],
   "source": [
    "# Resumo \n",
    "print(\"Linhas: \",dados.shape[0])\n",
    "print(\"Colunas: \",dados.shape[1])\n",
    "print(\"\\nVariáveis: \\n\", dados.columns.tolist())\n",
    "print(\"\\nValores Ausentes: \\n\", dados.isnull().sum())\n",
    "print(\"\\nValores Únicos: \\n\", dados.nunique()) "
   ]
  },
  {
   "cell_type": "code",
   "execution_count": 9,
   "metadata": {},
   "outputs": [
    {
     "name": "stdout",
     "output_type": "stream",
     "text": [
      "<class 'pandas.core.frame.DataFrame'>\n",
      "Int64Index: 1070994 entries, 1 to 1070994\n",
      "Data columns (total 31 columns):\n",
      " #   Column    Non-Null Count    Dtype  \n",
      "---  ------    --------------    -----  \n",
      " 0   BBLE      1070994 non-null  object \n",
      " 1   B         1070994 non-null  int64  \n",
      " 2   BLOCK     1070994 non-null  int64  \n",
      " 3   LOT       1070994 non-null  int64  \n",
      " 4   EASEMENT  4636 non-null     object \n",
      " 5   OWNER     1039249 non-null  object \n",
      " 6   BLDGCL    1070994 non-null  object \n",
      " 7   TAXCLASS  1070994 non-null  object \n",
      " 8   LTFRONT   1070994 non-null  int64  \n",
      " 9   LTDEPTH   1070994 non-null  int64  \n",
      " 10  EXT       354305 non-null   object \n",
      " 11  STORIES   1014730 non-null  float64\n",
      " 12  FULLVAL   1070994 non-null  float64\n",
      " 13  AVLAND    1070994 non-null  float64\n",
      " 14  AVTOT     1070994 non-null  float64\n",
      " 15  EXLAND    1070994 non-null  float64\n",
      " 16  EXTOT     1070994 non-null  float64\n",
      " 17  EXCD1     638488 non-null   float64\n",
      " 18  STADDR    1070318 non-null  object \n",
      " 19  ZIP       1041104 non-null  float64\n",
      " 20  EXMPTCL   15579 non-null    object \n",
      " 21  BLDFRONT  1070994 non-null  int64  \n",
      " 22  BLDDEPTH  1070994 non-null  int64  \n",
      " 23  AVLAND2   282726 non-null   float64\n",
      " 24  AVTOT2    282732 non-null   float64\n",
      " 25  EXLAND2   87449 non-null    float64\n",
      " 26  EXTOT2    130828 non-null   float64\n",
      " 27  EXCD2     92948 non-null    float64\n",
      " 28  PERIOD    1070994 non-null  object \n",
      " 29  YEAR      1070994 non-null  object \n",
      " 30  VALTYPE   1070994 non-null  object \n",
      "dtypes: float64(13), int64(7), object(11)\n",
      "memory usage: 261.5+ MB\n"
     ]
    }
   ],
   "source": [
    "# info\n",
    "dados.info()"
   ]
  },
  {
   "cell_type": "code",
   "execution_count": 10,
   "metadata": {},
   "outputs": [],
   "source": [
    "# Colunas numéricas (quantitativas)\n",
    "num_cols = ['LTFRONT', 'LTDEPTH', 'STORIES', 'FULLVAL', 'AVLAND', 'AVTOT', 'EXLAND', 'EXTOT', 'BLDFRONT', 'BLDDEPTH',\\\n",
    "           'AVLAND2', 'AVTOT2', 'EXLAND2', 'EXTOT2']"
   ]
  },
  {
   "cell_type": "code",
   "execution_count": 11,
   "metadata": {},
   "outputs": [],
   "source": [
    "# Colunas Categóricas\n",
    "cat_cols = ['BBLE', 'B', 'BLOCK', 'LOT', 'EASEMENT', 'OWNER', 'BLDGCL', 'TAXCLASS', 'EXT', 'EXCD1', 'STADDR', 'ZIP', \\\n",
    "           'EXMPTCL', 'EXCD2', 'PERIOD', 'YEAR', 'VALTYPE']"
   ]
  },
  {
   "cell_type": "code",
   "execution_count": null,
   "metadata": {},
   "outputs": [],
   "source": [
    "# Verificando se separamos todas as colunas\n",
    "len(num_cols) + len(cat_cols) == 31"
   ]
  },
  {
   "cell_type": "code",
   "execution_count": null,
   "metadata": {},
   "outputs": [],
   "source": [
    "#Separando o dataset entre variáveis numéricas e categóricas\n",
    "df_num = dados[num_cols]\n",
    "df_cat = dados[cat_cols]"
   ]
  },
  {
   "cell_type": "code",
   "execution_count": null,
   "metadata": {},
   "outputs": [],
   "source": [
    "# Sumário estatístico das variáveis numéricas\n",
    "summ_num = pd.DataFrame(index = df_num.columns)\n",
    "summ_num['Tipo de Dado'] = df_num.dtypes.values\n",
    "summ_num['# Registros Não Nulos'] = df_num.count().values\n",
    "summ_num['# Registros Não Zero'] = df_num.astype(bool).sum(axis = 0)\n",
    "summ_num['% Populado'] = round(summ_num['# Registros Não Nulos'] / df_num.shape[0]*100,2)\n",
    "summ_num['# Valores Únicos'] = df_num.nunique().values\n",
    "summ_num['Mean'] = round(df_num.mean(),2)\n",
    "summ_num['Std'] = round(df_num.std(),2)\n",
    "summ_num['Min'] = round(df_num.min(),2)\n",
    "summ_num['Max'] = round(df_num.max(),2)\n",
    "summ_num"
   ]
  },
  {
   "cell_type": "code",
   "execution_count": null,
   "metadata": {},
   "outputs": [],
   "source": [
    "# Sumário estatístico das variáveis categóricas\n",
    "summ_cat = pd.DataFrame(index = df_cat.columns)\n",
    "summ_cat['Tipo de Dado'] = df_cat.dtypes.values\n",
    "summ_cat['# Registros Não Nulos'] = df_cat.count().values\n",
    "summ_cat['% Populado'] = round(summ_cat['# Registros Não Nulos'] / df_cat.shape[0]*100,2)\n",
    "summ_cat['# Valores Únicos'] = df_cat.nunique().values\n",
    "summ_cat"
   ]
  },
  {
   "cell_type": "code",
   "execution_count": null,
   "metadata": {},
   "outputs": [],
   "source": [
    "# Adiciona mais uma coluna com valores mais comuns\n",
    "temp = []\n",
    "for col in cat_cols:\n",
    "    temp.append(df_cat[col].value_counts().idxmax())\n",
    "summ_cat['Valores Mais Comuns'] = temp"
   ]
  },
  {
   "cell_type": "code",
   "execution_count": null,
   "metadata": {},
   "outputs": [],
   "source": [
    "summ_cat"
   ]
  },
  {
   "cell_type": "markdown",
   "metadata": {},
   "source": [
    "<h3>Identificação, Exploração e Visualização das Variáveis</h3>"
   ]
  },
  {
   "cell_type": "code",
   "execution_count": null,
   "metadata": {},
   "outputs": [],
   "source": [
    "# Variáveis\n",
    "dados.columns"
   ]
  },
  {
   "cell_type": "code",
   "execution_count": null,
   "metadata": {},
   "outputs": [],
   "source": [
    "# Visualiza\n",
    "dados.head()"
   ]
  },
  {
   "cell_type": "markdown",
   "metadata": {},
   "source": [
    "**Variável 1** \\\n",
    "Nome da Variável: BBLE \\\n",
    "Descrição: Concatenação de código Borough, código de bloco, código LOT; um número exclusivo para cada registro."
   ]
  },
  {
   "cell_type": "markdown",
   "metadata": {},
   "source": [
    "**Variável 2** \\\n",
    "Nome da Variável: B \\\n",
    "Descrição: Códigos Borough "
   ]
  },
  {
   "cell_type": "code",
   "execution_count": null,
   "metadata": {},
   "outputs": [],
   "source": [
    "# Visualização da variável 2\n",
    "sns.set_theme(style = 'whitegrid')\n",
    "plt.figure(figsize = (12, 6))\n",
    "fig1 = sns.countplot(x = 'B', data = dados, order = dados['B'].value_counts().index)\n",
    "plt.title(\"Número de Propriedades em Diferentes Bairros\")"
   ]
  },
  {
   "cell_type": "code",
   "execution_count": null,
   "metadata": {},
   "outputs": [],
   "source": [
    "# Contagem\n",
    "BLOCK = df_cat['BLOCK'].value_counts().rename_axis('Unique_values_BLOCK').reset_index(name = 'Counts')\n",
    "BLOCK[:15]"
   ]
  },
  {
   "cell_type": "markdown",
   "metadata": {},
   "source": [
    "**Variável 4** \\\n",
    "Nome da Variável: LOT \\\n",
    "Descrição: Número de até 4 dígitos que representam códigos de lote em diferentes Borough & Block"
   ]
  },
  {
   "cell_type": "code",
   "execution_count": null,
   "metadata": {},
   "outputs": [],
   "source": [
    "# Contagem\n",
    "LOT = df_cat['LOT'].value_counts().rename_axis('Unique_values_LOT').reset_index(name = 'Counts')[:15]\n",
    "LOT[:15]"
   ]
  },
  {
   "cell_type": "markdown",
   "metadata": {},
   "source": [
    "**Variável 5** \\\n",
    "Nome da Variável: EASEMENT  \\\n",
    "Descrição: Tipos de easement"
   ]
  },
  {
   "cell_type": "code",
   "execution_count": null,
   "metadata": {},
   "outputs": [],
   "source": [
    "# Visualização da variável 5\n",
    "sns.set_theme(style = 'whitegrid')\n",
    "plt.figure(figsize = (12, 6))\n",
    "fig2 = sns.countplot(x = 'EASEMENT', data = dados, order = dados['EASEMENT'].value_counts().index)\n",
    "fig2.set_yscale(\"log\")\n",
    "fig2.set_title('Quantidade de Imóveis com Diversos Tipos de Easement')"
   ]
  },
  {
   "cell_type": "markdown",
   "metadata": {},
   "source": [
    "**Variável 6** \\\n",
    "Nome da Variável: OWNER \\\n",
    "Descrição: Proprietários dos imóveis"
   ]
  },
  {
   "cell_type": "code",
   "execution_count": null,
   "metadata": {},
   "outputs": [],
   "source": [
    "# Contagem\n",
    "OWNER = df_cat['OWNER'].value_counts().rename_axis('Unique_values_OWNER').reset_index(name = 'Counts')"
   ]
  },
  {
   "cell_type": "code",
   "execution_count": null,
   "metadata": {},
   "outputs": [],
   "source": [
    "OWNER.head()"
   ]
  },
  {
   "cell_type": "code",
   "execution_count": null,
   "metadata": {},
   "outputs": [],
   "source": [
    "OWNER.tail()"
   ]
  },
  {
   "cell_type": "markdown",
   "metadata": {},
   "source": [
    "**Variável 7** \\\n",
    "Nome da Variável: BLDGCL \\\n",
    "Descrição: Classe do imóvel"
   ]
  },
  {
   "cell_type": "code",
   "execution_count": null,
   "metadata": {},
   "outputs": [],
   "source": [
    "# Contagem\n",
    "BLDGCL = df_cat['BLDGCL'].value_counts().rename_axis('Unique_values_BLDCGL').reset_index(name = 'Counts')"
   ]
  },
  {
   "cell_type": "code",
   "execution_count": null,
   "metadata": {},
   "outputs": [],
   "source": [
    "BLDGCL.tail()"
   ]
  },
  {
   "cell_type": "code",
   "execution_count": null,
   "metadata": {},
   "outputs": [],
   "source": [
    "BLDGCL.head()"
   ]
  },
  {
   "cell_type": "markdown",
   "metadata": {},
   "source": [
    "**Variável 9** \\\n",
    "Nome da Variável: LTFRONT \\\n",
    "Descrição: Frente do lote em pés (feet)"
   ]
  },
  {
   "cell_type": "code",
   "execution_count": null,
   "metadata": {},
   "outputs": [],
   "source": [
    "# Divide em percentis\n",
    "dados['LTFRONT'].describe(percentiles = [0.5,0.75,0.995])"
   ]
  },
  {
   "cell_type": "code",
   "execution_count": null,
   "metadata": {},
   "outputs": [],
   "source": [
    "# Filtra por valores iguais ou menores que 375\n",
    "tmp = dados[dados['LTFRONT'] <= 375]"
   ]
  },
  {
   "cell_type": "code",
   "execution_count": null,
   "metadata": {},
   "outputs": [],
   "source": [
    "# Visualização da variável 9\n",
    "sns.set_theme(style = 'whitegrid')\n",
    "plt.figure(figsize = (10, 5))\n",
    "fig4 = sns.distplot(tmp.LTFRONT, bins = 50)\n",
    "fig4.set_title('Distribuição da Variável LTFRONT')"
   ]
  },
  {
   "cell_type": "code",
   "execution_count": null,
   "metadata": {},
   "outputs": [],
   "source": []
  }
 ],
 "metadata": {
  "kernelspec": {
   "display_name": "Python 3",
   "language": "python",
   "name": "python3"
  },
  "language_info": {
   "codemirror_mode": {
    "name": "ipython",
    "version": 3
   },
   "file_extension": ".py",
   "mimetype": "text/x-python",
   "name": "python",
   "nbconvert_exporter": "python",
   "pygments_lexer": "ipython3",
   "version": "3.8.3"
  }
 },
 "nbformat": 4,
 "nbformat_minor": 4
}
